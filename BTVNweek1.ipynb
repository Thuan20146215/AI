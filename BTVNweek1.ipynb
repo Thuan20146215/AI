{
  "nbformat": 4,
  "nbformat_minor": 0,
  "metadata": {
    "colab": {
      "provenance": [],
      "authorship_tag": "ABX9TyNSBcLmNqS5QnZgdFdURzAL",
      "include_colab_link": true
    },
    "kernelspec": {
      "name": "python3",
      "display_name": "Python 3"
    },
    "language_info": {
      "name": "python"
    }
  },
  "cells": [
    {
      "cell_type": "markdown",
      "metadata": {
        "id": "view-in-github",
        "colab_type": "text"
      },
      "source": [
        "<a href=\"https://colab.research.google.com/github/Thuan20146215/KyThuatRobot/blob/main/BTVNweek1.ipynb\" target=\"_parent\"><img src=\"https://colab.research.google.com/assets/colab-badge.svg\" alt=\"Open In Colab\"/></a>"
      ]
    },
    {
      "cell_type": "code",
      "source": [
        "import pandas as pd\n",
        "url='http://winterolympicsmedals.com/medals.csv'\n",
        "data=pd.read_csv(url)\n",
        "data[data['NOC']=='USA'].drop(data.columns[0:7],axis=1).count()\n",
        "#tim so huy chuong cua 1 nation nao do"
      ],
      "metadata": {
        "colab": {
          "base_uri": "https://localhost:8080/"
        },
        "id": "9b0T5hDc0DDJ",
        "outputId": "7de4f4c6-d17e-4d33-a165-e78d48912296"
      },
      "execution_count": 102,
      "outputs": [
        {
          "output_type": "execute_result",
          "data": {
            "text/plain": [
              "Medal    216\n",
              "dtype: int64"
            ]
          },
          "metadata": {},
          "execution_count": 102
        }
      ]
    },
    {
      "cell_type": "code",
      "source": [
        "import pandas as pd\n",
        "url='http://winterolympicsmedals.com/medals.csv'\n",
        "data=pd.read_csv(url)\n",
        "data[(data['Discipline']=='Ice Hockey') & (data['Medal']=='Gold')].drop(data.columns[0:7],axis=1).count()\n",
        "#tim so huy chuong vang theo mon thi ca nhan"
      ],
      "metadata": {
        "colab": {
          "base_uri": "https://localhost:8080/"
        },
        "outputId": "15b5d512-a89b-4ee1-eeb4-c11c8a3b7c2d",
        "id": "MZ6lgSJd53pK"
      },
      "execution_count": 101,
      "outputs": [
        {
          "output_type": "execute_result",
          "data": {
            "text/plain": [
              "Medal    23\n",
              "dtype: int64"
            ]
          },
          "metadata": {},
          "execution_count": 101
        }
      ]
    }
  ]
}
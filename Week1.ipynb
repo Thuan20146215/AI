{
  "nbformat": 4,
  "nbformat_minor": 0,
  "metadata": {
    "colab": {
      "provenance": [],
      "authorship_tag": "ABX9TyPfD4sXobNckuNjS3t1Ys38",
      "include_colab_link": true
    },
    "kernelspec": {
      "name": "python3",
      "display_name": "Python 3"
    },
    "language_info": {
      "name": "python"
    }
  },
  "cells": [
    {
      "cell_type": "markdown",
      "metadata": {
        "id": "view-in-github",
        "colab_type": "text"
      },
      "source": [
        "<a href=\"https://colab.research.google.com/github/Thuan20146215/KyThuatRobot/blob/main/Week1.ipynb\" target=\"_parent\"><img src=\"https://colab.research.google.com/assets/colab-badge.svg\" alt=\"Open In Colab\"/></a>"
      ]
    },
    {
      "cell_type": "code",
      "source": [
        "from os import write\n",
        "with open ('text.txt',mode ='w') as accounts:\n",
        "  accounts.write('201461 A 10\\n')\n",
        "  accounts.write('201461 B 6\\n')\n",
        "  accounts.write('201461 C 8\\n')\n"
      ],
      "metadata": {
        "id": "7t95JShbXbYp"
      },
      "execution_count": 44,
      "outputs": []
    },
    {
      "cell_type": "code",
      "source": [
        "from os import write\n",
        "with open ('text1.txt',mode ='w') as accounts:\n",
        "  print('201461 Nguyễn Văn A',file=accounts)"
      ],
      "metadata": {
        "id": "xn249UGsYxFC"
      },
      "execution_count": 4,
      "outputs": []
    },
    {
      "cell_type": "code",
      "source": [
        "from os import read\n",
        "with open ('text.txt',mode ='r') as accounts:\n",
        "  print(f\"{'mssv':<10}{'name':<20}{'score':<3}\")\n",
        "  for record in accounts:\n",
        "    mssv,name,score=record.split()\n",
        "    print(f\"{mssv:<10}{name:<20}{score:<3}\")"
      ],
      "metadata": {
        "colab": {
          "base_uri": "https://localhost:8080/"
        },
        "id": "PfNI6nhOZzvH",
        "outputId": "fe9191c0-1feb-4ad7-87c4-577054b6bf13"
      },
      "execution_count": 45,
      "outputs": [
        {
          "output_type": "stream",
          "name": "stdout",
          "text": [
            "mssv      name                score\n",
            "201461    A                   10 \n",
            "201461    B                   6  \n",
            "201461    C                   8  \n"
          ]
        }
      ]
    },
    {
      "cell_type": "code",
      "source": [
        "import pandas as pd\n",
        "url = 'data.csv'\n",
        "dataframe=pd.read_csv(url)\n",
        "dataframe.head(21)"
      ],
      "metadata": {
        "id": "qhARza1ri4b3"
      },
      "execution_count": null,
      "outputs": []
    },
    {
      "cell_type": "code",
      "source": [
        "import pandas as pd\n",
        "url = 'data.csv'\n",
        "dataframe=pd.read_csv(url)\n",
        "dataframe = dataframe.set_index(dataframe['Khoa'])\n",
        "dataframe.loc['Kinh Tế']"
      ],
      "metadata": {
        "id": "iXy1irVTejJ1"
      },
      "execution_count": null,
      "outputs": []
    },
    {
      "cell_type": "code",
      "source": [
        "import pandas as pd\n",
        "url = 'data.csv'\n",
        "dataframe=pd.read_csv(url)\n",
        "dataframe[dataframe['Khoa']=='Kinh Tế'].head(10)"
      ],
      "metadata": {
        "id": "0-cTw8RSjhVL"
      },
      "execution_count": null,
      "outputs": []
    },
    {
      "cell_type": "code",
      "source": [
        "import pandas as pd\n",
        "url = 'data.csv'\n",
        "dataframe=pd.read_csv(url)\n",
        "dataframe[(dataframe['Khoa']=='Kinh Tế') & (dataframe['Score']==10)]"
      ],
      "metadata": {
        "id": "MZ-yUj-vlWOn"
      },
      "execution_count": null,
      "outputs": []
    },
    {
      "cell_type": "code",
      "source": [
        "import pandas as pd\n",
        "url = 'data.csv'\n",
        "dataframe=pd.read_csv(url)\n",
        "dataframe.replace('Cơ Điện Tử','CKM').head(10)"
      ],
      "metadata": {
        "id": "zuhGhA_7mzk8"
      },
      "execution_count": null,
      "outputs": []
    },
    {
      "cell_type": "code",
      "source": [
        "import pandas as pd\n",
        "url = 'data.csv'\n",
        "dataframe=pd.read_csv(url)\n",
        "dataframe['Khoa'].unique()\n",
        "dataframe['Khoa'].value_counts()"
      ],
      "metadata": {
        "id": "0C_JKS3wndFo"
      },
      "execution_count": null,
      "outputs": []
    },
    {
      "cell_type": "code",
      "source": [
        "import pandas as pd\n",
        "url = 'data.csv'\n",
        "dataframe=pd.read_csv(url)\n",
        "#xoa theo cot\n",
        "dataframe.drop('STT',axis=1).head(21)"
      ],
      "metadata": {
        "id": "sJCwL2hZojtm"
      },
      "execution_count": null,
      "outputs": []
    },
    {
      "cell_type": "code",
      "source": [
        "import pandas as pd\n",
        "url = 'data.csv'\n",
        "dataframe=pd.read_csv(url)\n",
        "#xoa cot theo index\n",
        "dataframe.drop(dataframe.columns[2:4],axis=1).head(10)"
      ],
      "metadata": {
        "id": "kyoY7KSzpcXz"
      },
      "execution_count": null,
      "outputs": []
    },
    {
      "cell_type": "code",
      "source": [
        "import pandas as pd\n",
        "url = 'data.csv'\n",
        "dataframe=pd.read_csv(url)\n",
        "#xoa hang\n",
        "dataframe[dataframe['Khoa']!='Điện Điện Tử'].head(21)"
      ],
      "metadata": {
        "id": "lMGbkCI2qJDk"
      },
      "execution_count": null,
      "outputs": []
    },
    {
      "cell_type": "code",
      "source": [
        "import pandas as pd\n",
        "url = 'data.csv'\n",
        "dataframe=pd.read_csv(url)\n",
        "#xoa hang\n",
        "dataframe[dataframe['Score']!=10].head(21)"
      ],
      "metadata": {
        "id": "-TEueMsuqZW7"
      },
      "execution_count": null,
      "outputs": []
    },
    {
      "cell_type": "code",
      "source": [
        "import pandas as pd\n",
        "url = 'data.csv'\n",
        "dataframe=pd.read_csv(url)\n",
        "dataframe[dataframe.index!=1].head(21)"
      ],
      "metadata": {
        "id": "U-rcjTZwqqyj"
      },
      "execution_count": null,
      "outputs": []
    },
    {
      "cell_type": "code",
      "source": [
        "import pandas as pd\n",
        "url = 'data.csv'\n",
        "dataframe=pd.read_csv(url)\n",
        "#xoa hang trung gia tri vs nhau\n",
        "dataframe.drop_duplicates().head(21)"
      ],
      "metadata": {
        "id": "_ZZQ1oClrACc"
      },
      "execution_count": null,
      "outputs": []
    },
    {
      "cell_type": "code",
      "source": [
        "import pandas as pd\n",
        "url = 'data.csv'\n",
        "dataframe=pd.read_csv(url)\n",
        "dataframe.groupby(['Khoa','Score']).count()"
      ],
      "metadata": {
        "id": "yZruXQHrrV8j"
      },
      "execution_count": null,
      "outputs": []
    },
    {
      "cell_type": "code",
      "source": [
        "import numpy as np\n",
        "import pandas as pd\n",
        "time_index=pd.date_range('01/01/2023',periods=100000,freq='30s')\n",
        "dataframe=pd.DataFrame(index=time_index)\n",
        "dataframe['Acess_Amount']=np.random.randint(1,10,100000)\n",
        "dataframe.resample('W').sum() #lay mau 1 tuan \n",
        "dataframe.resample('M').sum() #lay mau 1 thang"
      ],
      "metadata": {
        "id": "iBd_qriwsrHZ"
      },
      "execution_count": null,
      "outputs": []
    },
    {
      "cell_type": "code",
      "source": [
        "import pandas as pd\n",
        "url='http://winterolympicsmedals.com/medals.csv'\n",
        "data=pd.read_csv(url)\n",
        "data[data['NOC']=='USA'].drop(data.columns[0:7],axis=1).count()\n",
        "#tim so huy chuong cua 1 nation nao do"
      ],
      "metadata": {
        "colab": {
          "base_uri": "https://localhost:8080/"
        },
        "id": "9b0T5hDc0DDJ",
        "outputId": "7de4f4c6-d17e-4d33-a165-e78d48912296"
      },
      "execution_count": 102,
      "outputs": [
        {
          "output_type": "execute_result",
          "data": {
            "text/plain": [
              "Medal    216\n",
              "dtype: int64"
            ]
          },
          "metadata": {},
          "execution_count": 102
        }
      ]
    },
    {
      "cell_type": "code",
      "source": [
        "import pandas as pd\n",
        "url='http://winterolympicsmedals.com/medals.csv'\n",
        "data=pd.read_csv(url)\n",
        "data[(data['Discipline']=='Ice Hockey') & (data['Medal']=='Gold')].drop(data.columns[0:7],axis=1).count()\n",
        "#tim so huy chuong vang theo mon thi ca nhan"
      ],
      "metadata": {
        "colab": {
          "base_uri": "https://localhost:8080/"
        },
        "outputId": "15b5d512-a89b-4ee1-eeb4-c11c8a3b7c2d",
        "id": "MZ6lgSJd53pK"
      },
      "execution_count": 101,
      "outputs": [
        {
          "output_type": "execute_result",
          "data": {
            "text/plain": [
              "Medal    23\n",
              "dtype: int64"
            ]
          },
          "metadata": {},
          "execution_count": 101
        }
      ]
    }
  ]
}